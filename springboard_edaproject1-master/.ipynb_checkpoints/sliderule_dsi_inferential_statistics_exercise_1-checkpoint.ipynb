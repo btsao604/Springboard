{
 "cells": [
  {
   "cell_type": "markdown",
   "metadata": {},
   "source": [
    "# What is the True Normal Human Body Temperature? \n",
    "\n",
    "#### Background\n",
    "\n",
    "The mean normal body temperature was held to be 37$^{\\circ}$C or 98.6$^{\\circ}$F for more than 120 years since it was first conceptualized and reported by Carl Wunderlich in a famous 1868 book. But, is this value statistically correct?"
   ]
  },
  {
   "cell_type": "markdown",
   "metadata": {},
   "source": [
    "<h3>Exercises</h3>\n",
    "\n",
    "<p>In this exercise, you will analyze a dataset of human body temperatures and employ the concepts of hypothesis testing, confidence intervals, and statistical significance.</p>\n",
    "\n",
    "<p>Answer the following questions <b>in this notebook below and submit to your Github account</b>.</p> \n",
    "\n",
    "<ol>\n",
    "<li>  Is the distribution of body temperatures normal? \n",
    "    <ul>\n",
    "    <li> Although this is not a requirement for the Central Limit Theorem to hold (read the introduction on Wikipedia's page about the CLT carefully: https://en.wikipedia.org/wiki/Central_limit_theorem), it gives us some peace of mind that the population may also be normally distributed if we assume that this sample is representative of the population.\n",
    "    <li> Think about the way you're going to check for the normality of the distribution. Graphical methods are usually used first, but there are also other ways: https://en.wikipedia.org/wiki/Normality_test\n",
    "    </ul>\n",
    "<li>  Is the sample size large? Are the observations independent?\n",
    "    <ul>\n",
    "    <li> Remember that this is a condition for the Central Limit Theorem, and hence the statistical tests we are using, to apply.\n",
    "    </ul>\n",
    "<li>  Is the true population mean really 98.6 degrees F?\n",
    "    <ul>\n",
    "    <li> First, try a bootstrap hypothesis test.\n",
    "    <li> Now, let's try frequentist statistical testing. Would you use a one-sample or two-sample test? Why?\n",
    "    <li> In this situation, is it appropriate to use the $t$ or $z$ statistic? \n",
    "    <li> Now try using the other test. How is the result be different? Why?\n",
    "    </ul>\n",
    "<li>  Draw a small sample of size 10 from the data and repeat both frequentist tests. \n",
    "    <ul>\n",
    "    <li> Which one is the correct one to use? \n",
    "    <li> What do you notice? What does this tell you about the difference in application of the $t$ and $z$ statistic?\n",
    "    </ul>\n",
    "<li>  At what temperature should we consider someone's temperature to be \"abnormal\"?\n",
    "    <ul>\n",
    "    <li> As in the previous example, try calculating everything using the boostrap approach, as well as the frequentist approach.\n",
    "    <li> Start by computing the margin of error and confidence interval. When calculating the confidence interval, keep in mind that you should use the appropriate formula for one draw, and not N draws.\n",
    "    </ul>\n",
    "<li>  Is there a significant difference between males and females in normal temperature?\n",
    "    <ul>\n",
    "    <li> What testing approach did you use and why?\n",
    "    <li> Write a story with your conclusion in the context of the original problem.\n",
    "    </ul>\n",
    "</ol>\n",
    "\n",
    "You can include written notes in notebook cells using Markdown: \n",
    "   - In the control panel at the top, choose Cell > Cell Type > Markdown\n",
    "   - Markdown syntax: http://nestacms.com/docs/creating-content/markdown-cheat-sheet\n",
    "\n",
    "#### Resources\n",
    "\n",
    "+ Information and data sources: http://www.amstat.org/publications/jse/datasets/normtemp.txt, http://www.amstat.org/publications/jse/jse_data_archive.htm\n",
    "+ Markdown syntax: http://nestacms.com/docs/creating-content/markdown-cheat-sheet\n",
    "\n",
    "****"
   ]
  },
  {
   "cell_type": "code",
   "execution_count": 37,
   "metadata": {
    "collapsed": false
   },
   "outputs": [
    {
     "data": {
      "text/html": [
       "<div>\n",
       "<table border=\"1\" class=\"dataframe\">\n",
       "  <thead>\n",
       "    <tr style=\"text-align: right;\">\n",
       "      <th></th>\n",
       "      <th>temperature</th>\n",
       "      <th>gender</th>\n",
       "      <th>heart_rate</th>\n",
       "    </tr>\n",
       "  </thead>\n",
       "  <tbody>\n",
       "    <tr>\n",
       "      <th>0</th>\n",
       "      <td>99.3</td>\n",
       "      <td>F</td>\n",
       "      <td>68.0</td>\n",
       "    </tr>\n",
       "    <tr>\n",
       "      <th>1</th>\n",
       "      <td>98.4</td>\n",
       "      <td>F</td>\n",
       "      <td>81.0</td>\n",
       "    </tr>\n",
       "    <tr>\n",
       "      <th>2</th>\n",
       "      <td>97.8</td>\n",
       "      <td>M</td>\n",
       "      <td>73.0</td>\n",
       "    </tr>\n",
       "    <tr>\n",
       "      <th>3</th>\n",
       "      <td>99.2</td>\n",
       "      <td>F</td>\n",
       "      <td>66.0</td>\n",
       "    </tr>\n",
       "    <tr>\n",
       "      <th>4</th>\n",
       "      <td>98.0</td>\n",
       "      <td>F</td>\n",
       "      <td>73.0</td>\n",
       "    </tr>\n",
       "  </tbody>\n",
       "</table>\n",
       "</div>"
      ],
      "text/plain": [
       "   temperature gender  heart_rate\n",
       "0         99.3      F        68.0\n",
       "1         98.4      F        81.0\n",
       "2         97.8      M        73.0\n",
       "3         99.2      F        66.0\n",
       "4         98.0      F        73.0"
      ]
     },
     "execution_count": 37,
     "metadata": {},
     "output_type": "execute_result"
    }
   ],
   "source": [
    "import pandas as pd\n",
    "import numpy as np\n",
    "import matplotlib.pyplot as plt\n",
    "import seaborn as sns\n",
    "from scipy import stats\n",
    "sns.set()\n",
    "df = pd.read_csv('data/human_body_temperature.csv')\n",
    "df.head()"
   ]
  },
  {
   "cell_type": "markdown",
   "metadata": {},
   "source": [
    "<h3>Question 1</h3>"
   ]
  },
  {
   "cell_type": "code",
   "execution_count": 59,
   "metadata": {
    "collapsed": false
   },
   "outputs": [
    {
     "data": {
      "image/png": "[encoded data removed]",
      "text/plain": [
       "<matplotlib.figure.Figure at 0x1180c7f28>"
      ]
     },
     "metadata": {},
     "output_type": "display_data"
    }
   ],
   "source": [
    "_ = plt.hist(df['temperature'], bins=20)\n",
    "_ = plt.xlabel('Body Temperature')\n",
    "_ = plt.ylabel('Count')\n",
    "plt.show()\n"
   ]
  },
  {
   "cell_type": "markdown",
   "metadata": {},
   "source": [
    "<p>It is difficult to say if the body temperature is normal or not. It has 2 peaks around the middle and mostly gathers around the middle. However, it does not fully fit a normal distribution given the middle should be the peak, but it drops at the middle.</p>"
   ]
  },
  {
   "cell_type": "code",
   "execution_count": 22,
   "metadata": {
    "collapsed": true
   },
   "outputs": [],
   "source": [
    "#Define the ECDF function\n",
    "def edcf(data):\n",
    "    x = np.sort(data)\n",
    "    y = np.arange(1, len(x)+1)/len(x)\n",
    "    return x,y"
   ]
  },
  {
   "cell_type": "code",
   "execution_count": 23,
   "metadata": {
    "collapsed": false
   },
   "outputs": [],
   "source": [
    "x,y = edcf(df['temperature'])\n",
    "temp_mean = np.mean(x)\n",
    "temp_std = np.std(x)"
   ]
  },
  {
   "cell_type": "code",
   "execution_count": 25,
   "metadata": {
    "collapsed": false
   },
   "outputs": [],
   "source": [
    "#Calculating data points for the normal distribution with parameters equal to mean and std of the sample. \n",
    "normaldata = np.random.normal(temp_mean,temp_std,100000)\n",
    "\n",
    "#Calculating CDF of the normal distribution for the mean and std of the temperature sample \n",
    "x_theor,y_theor = edcf(normaldata)"
   ]
  },
  {
   "cell_type": "code",
   "execution_count": 28,
   "metadata": {
    "collapsed": false
   },
   "outputs": [
    {
     "data": {
      "image/png": "[encoded data removed]",
      "text/plain": [
       "<matplotlib.figure.Figure at 0x1180f54e0>"
      ]
     },
     "metadata": {},
     "output_type": "display_data"
    }
   ],
   "source": [
    "# plotting EDCF and CDF \n",
    "plt.plot(x,y, marker = '.',linestyle = 'none',color = 'green');\n",
    "plt.plot(x_theor,y_theor,color = 'blue');\n",
    "plt.margins(0.02);\n",
    "plt.xlabel('Temperature');\n",
    "plt.ylabel(\"ECDF\");\n",
    "plt.legend(['Data','Theory'])\n",
    "plt.show()"
   ]
  },
  {
   "cell_type": "markdown",
   "metadata": {},
   "source": [
    "Now looking at the ECDF compared to the theoretical ECDF, it is clear that the temperature is normally distributed. It has some slight variance but it is more or less normal."
   ]
  },
  {
   "cell_type": "markdown",
   "metadata": {},
   "source": [
    "<h3>Question 2</h3>"
   ]
  },
  {
   "cell_type": "code",
   "execution_count": 29,
   "metadata": {
    "collapsed": false
   },
   "outputs": [
    {
     "data": {
      "text/plain": [
       "count    130.000000\n",
       "mean      98.249231\n",
       "std        0.733183\n",
       "min       96.300000\n",
       "25%       97.800000\n",
       "50%       98.300000\n",
       "75%       98.700000\n",
       "max      100.800000\n",
       "Name: temperature, dtype: float64"
      ]
     },
     "execution_count": 29,
     "metadata": {},
     "output_type": "execute_result"
    }
   ],
   "source": [
    "df['temperature'].describe()"
   ]
  },
  {
   "cell_type": "markdown",
   "metadata": {},
   "source": [
    "Looking at this, we can see that we have 130 observations. The rule of thumb for the Law of Large Numbers to be in effect for the Central Limit Theorem is 30. Thus this is definitely a large enough sample size.\n",
    "\n",
    "We don't have much information on the data, but assuming that we collected the data from a random population (e.g. from doctor check ups) that does not follow any biases, we can assume that the observations are independent from each other."
   ]
  },
  {
   "cell_type": "markdown",
   "metadata": {
    "collapsed": true
   },
   "source": [
    "<h3>Question 3</h3>"
   ]
  },
  {
   "cell_type": "code",
   "execution_count": 30,
   "metadata": {
    "collapsed": true
   },
   "outputs": [],
   "source": [
    "size = 100000\n",
    "#initialize replicates\n",
    "bs_replicates = np.empty(size)\n",
    "\n",
    "for i in range(size):\n",
    "    #recall x is the temperature from question 1\n",
    "    bs = np.random.choice(x,len(x))\n",
    "    bs_replicates[i] = np.mean(bs)"
   ]
  },
  {
   "cell_type": "code",
   "execution_count": 33,
   "metadata": {
    "collapsed": false
   },
   "outputs": [
    {
     "data": {
      "image/png": "[encoded data removed]",
      "text/plain": [
       "<matplotlib.figure.Figure at 0x1183ddda0>"
      ]
     },
     "metadata": {},
     "output_type": "display_data"
    }
   ],
   "source": [
    "#plotting the boostrap replicates histogram\n",
    "\n",
    "_ = plt.hist(bs_replicates, bins=50, normed=True)\n",
    "_ = plt.axvline(x=98.6, color='red')\n",
    "_ = plt.xlabel('Mean Body Temperature')\n",
    "_ = plt.ylabel('Probability Distribution Function')\n",
    "\n",
    "plt.show()"
   ]
  },
  {
   "cell_type": "code",
   "execution_count": 34,
   "metadata": {
    "collapsed": false
   },
   "outputs": [
    {
     "name": "stdout",
     "output_type": "stream",
     "text": [
      "p-value is equal to 0.0\n"
     ]
    }
   ],
   "source": [
    "#Population mean: u\n",
    "mean = 98.6\n",
    "p_value_bs = (sum(bs_replicates >= mean )/len(bs_replicates))\n",
    "print(\"p-value is equal to\",p_value_bs)"
   ]
  },
  {
   "cell_type": "markdown",
   "metadata": {},
   "source": [
    "<p>As the p-value is 0, we can see that the mean of 98.6 degrees Fahreinheit is a very extreme value. As well looking at the PDF plot, we can see that it is fairly extreme. Let's continue with the frequentist approach.</p>\n",
    "\n",
    "<p>Let's create a hypothesis test by assuming that the mean is truly 98.6 F.\n",
    "\n",
    "Null hypothesis: Mean = 98.6 F\n",
    "Alternative hypothesis: Mean != 98.6 F\n",
    "\n",
    "A few assumptions:\n",
    "1. We will use the standard significance of 0.05.\n",
    "2. We will assume 1-tailed as we are only worried about extreme values to the right (larger values)\n",
    "3. As we are assuming normal distribution from question 2, we will be using the z-statistic rather than the t-statistic. We generally only use the t-statistic on cases where 1) the observations are lower than 30 and 2) the population standard deviation is not known. Given both are false, we use the z-statistic.</p>"
   ]
  },
  {
   "cell_type": "code",
   "execution_count": 38,
   "metadata": {
    "collapsed": false
   },
   "outputs": [
    {
     "name": "stdout",
     "output_type": "stream",
     "text": [
      "p-value for z-statistic is equal to  2.17615758294e-08\n"
     ]
    }
   ],
   "source": [
    "# calculating z-statistic\n",
    "z = (temp_mean - mean)/(temp_std /np.sqrt(len(x)))\n",
    "p_value_z=stats.norm.cdf(z) \n",
    "\n",
    "print('p-value for z-statistic is equal to ',p_value_z)"
   ]
  },
  {
   "cell_type": "markdown",
   "metadata": {},
   "source": [
    "Because the p-value for the z-statistic is less than the significance level of 0.05. We reject the null hypothesis and accept the alternative hypothesis that the mean does not equal 98.6."
   ]
  },
  {
   "cell_type": "markdown",
   "metadata": {},
   "source": [
    "<h3>Question 4</h3>"
   ]
  },
  {
   "cell_type": "code",
   "execution_count": 43,
   "metadata": {
    "collapsed": false
   },
   "outputs": [
    {
     "data": {
      "text/plain": [
       "array([ 98.2,  98.6,  98.2,  98. ,  98.5,  98.6,  98.2,  97.8,  98.4,  98.2])"
      ]
     },
     "execution_count": 43,
     "metadata": {},
     "output_type": "execute_result"
    }
   ],
   "source": [
    "x_10 = np.random.choice(x, size=10)\n",
    "x_10"
   ]
  },
  {
   "cell_type": "code",
   "execution_count": 46,
   "metadata": {
    "collapsed": false
   },
   "outputs": [
    {
     "name": "stdout",
     "output_type": "stream",
     "text": [
      "p-value for z-statistic is equal to  1.82977096384e-53 and for t-statistic is equal to  0.00293611860491\n"
     ]
    }
   ],
   "source": [
    "z_10 = (np.mean(x_10) - mean)/(np.std(x_10) /np.sqrt(len(x)))\n",
    "p_value_z=stats.norm.cdf(z_10) \n",
    "#calculating t-statitics\n",
    "t,p_value_t =stats.ttest_1samp(x_10,mean)\n",
    "print('The p-value for z-statistic is equal to ',p_value_z, 'and the t-statistic is equal to ',p_value_t)"
   ]
  },
  {
   "cell_type": "markdown",
   "metadata": {},
   "source": [
    "T-statistic is only used for small observations (n < 30), thus the p-value for z-statistic and t-statistic varies significantly. The t-statistic is more convervative as the law of large numbers can't be in effect for n < 30."
   ]
  },
  {
   "cell_type": "markdown",
   "metadata": {},
   "source": [
    "<h3>Question 5</h3>"
   ]
  },
  {
   "cell_type": "markdown",
   "metadata": {},
   "source": [
    "We will have a confidence interval to show what is a normal temperature range and anything outside of that will be abnormal. We will use the same significance of 5% thus we will want a two-tailed significance between 2.5% and 97.5%."
   ]
  },
  {
   "cell_type": "code",
   "execution_count": 40,
   "metadata": {
    "collapsed": false
   },
   "outputs": [
    {
     "name": "stdout",
     "output_type": "stream",
     "text": [
      "The confidance interval is equal to  [ 98.12307692  98.37538462]\n"
     ]
    }
   ],
   "source": [
    "#Bootstrap Method\n",
    "CI_rep = np.percentile(bs_replicates,[2.5,97.5])\n",
    "print(\"The confidance interval is equal to \", CI_rep)"
   ]
  },
  {
   "cell_type": "code",
   "execution_count": 42,
   "metadata": {
    "collapsed": false
   },
   "outputs": [
    {
     "name": "stdout",
     "output_type": "stream",
     "text": [
      "[98.123679804428193, 98.374781734033363]\n"
     ]
    }
   ],
   "source": [
    "#Frequentist Method using z-statistic\n",
    "z = 1.96\n",
    "M = temp_std/np.sqrt(len(x))*z\n",
    "#calculating confidence interval:\n",
    "CI = [temp_mean-M,temp_mean+M]\n",
    "print(CI)"
   ]
  },
  {
   "cell_type": "markdown",
   "metadata": {},
   "source": [
    "This is very similar to our bootstrap method interval."
   ]
  },
  {
   "cell_type": "code",
   "execution_count": 47,
   "metadata": {
    "collapsed": true
   },
   "outputs": [],
   "source": [
    "#Question 6\n",
    "male = df.temperature[df.gender == \"M\"]\n",
    "female = df.temperature[df.gender == \"F\"]\n",
    "x_male, y_male = edcf(male)\n",
    "x_female, y_female = edcf(female)"
   ]
  },
  {
   "cell_type": "code",
   "execution_count": 50,
   "metadata": {
    "collapsed": false
   },
   "outputs": [
    {
     "data": {
      "image/png": "[encoded data removed]",
      "text/plain": [
       "<matplotlib.figure.Figure at 0x1183cb630>"
      ]
     },
     "metadata": {},
     "output_type": "display_data"
    }
   ],
   "source": [
    "_ = plt.plot(x_male,y_male, marker = '.',linestyle = 'none',color = 'blue');\n",
    "_ = plt.plot(x_female,y_female, marker = '.',linestyle = 'none',color = 'pink');\n",
    "_ = plt.margins(0.02);\n",
    "_ = plt.xlabel('Temperature');\n",
    "_ = plt.ylabel(\"ECDF\");\n",
    "_ = plt.legend(['Female','Male'])\n",
    "\n",
    "plt.show()"
   ]
  },
  {
   "cell_type": "markdown",
   "metadata": {},
   "source": [
    "There is a clear difference between male and female body temperatures.\n",
    "\n",
    "Our hypothesis is:\n",
    "\n",
    "1. Null Hypothesis: Mean body temperature for men and women is the same\n",
    "2. Alternative Hypothesis: Mean body temperature for men and women is different \n",
    "3. The signficance level is 5% \n",
    "4. We will firt perform two-sided test for the two population mean. The distributions for both sexes are different, therefore their variances are different too. One of the cases for using t-statistic is that our population variances are unknown, which is the case here. For that reason we will use t-statistic to calculate p-value for our hypotheses."
   ]
  },
  {
   "cell_type": "code",
   "execution_count": 52,
   "metadata": {
    "collapsed": false
   },
   "outputs": [
    {
     "name": "stdout",
     "output_type": "stream",
     "text": [
      "P-value is equal to  0.0239382641829\n"
     ]
    }
   ],
   "source": [
    "_,p_value=stats.ttest_ind(male,female,equal_var=False)\n",
    "print(\"P-value is equal to \",p_value)"
   ]
  },
  {
   "cell_type": "code",
   "execution_count": 55,
   "metadata": {
    "collapsed": false
   },
   "outputs": [],
   "source": [
    "#boostrapping\n",
    "size = 100000\n",
    "mean_diff = np.mean(x_male) - np.mean(x_female)\n",
    "xm_shift = x_male - np.mean(x_male) + temp_mean\n",
    "xw_shift = x_female - np.mean(x_female) + temp_mean\n",
    "bs_replicates_m = np.empty(size)\n",
    "bs_replicates_w = np.empty(size)\n",
    "for i in range(size):\n",
    "    bs = np.random.choice(xm_shift,len(x_male))\n",
    "    bs_replicates_m[i] = np.mean(bs)\n",
    "    \n",
    "    bs = np.random.choice(xw_shift,len(x_female))\n",
    "    bs_replicates_w[i] = np.mean(bs)\n",
    "    \n",
    "bs_replicates = bs_replicates_m - bs_replicates_w\n",
    "\n",
    "p_value = np.sum(bs_replicates <= mean_diff)/len(bs_replicates)"
   ]
  },
  {
   "cell_type": "code",
   "execution_count": 60,
   "metadata": {
    "collapsed": false
   },
   "outputs": [
    {
     "data": {
      "image/png": "[encoded data removed]",
      "text/plain": [
       "<matplotlib.figure.Figure at 0x118411d30>"
      ]
     },
     "metadata": {},
     "output_type": "display_data"
    }
   ],
   "source": [
    "_ = plt.hist(bs_replicates,bins=50,normed=True)\n",
    "_ = plt.xlabel('Temperature Mean Difference (F)')\n",
    "_ = plt.plot([mean_diff,mean_diff],[0,3])\n",
    "_ = plt.axvline(x=mean_diff, color='red')\n",
    "_ = plt.ylabel('PDF')\n",
    "_ = plt.show()"
   ]
  },
  {
   "cell_type": "code",
   "execution_count": 58,
   "metadata": {
    "collapsed": false
   },
   "outputs": [
    {
     "name": "stdout",
     "output_type": "stream",
     "text": [
      "P-value is equal to  0.0112\n"
     ]
    }
   ],
   "source": [
    "print(\"P-value is equal to \",p_value)"
   ]
  },
  {
   "cell_type": "markdown",
   "metadata": {
    "collapsed": true
   },
   "source": [
    "<p>As our p-value is 0.0112 which is less than our significance level of 0.05, we reject the null hypothesis that there is no difference in the mean of the genders.</p>"
   ]
  }
 ],
 "metadata": {
  "kernelspec": {
   "display_name": "Python 3",
   "language": "python",
   "name": "python3"
  },
  "language_info": {
   "codemirror_mode": {
    "name": "ipython",
    "version": 3
   },
   "file_extension": ".py",
   "mimetype": "text/x-python",
   "name": "python",
   "nbconvert_exporter": "python",
   "pygments_lexer": "ipython3",
   "version": "3.6.0"
  }
 },
 "nbformat": 4,
 "nbformat_minor": 1
}
