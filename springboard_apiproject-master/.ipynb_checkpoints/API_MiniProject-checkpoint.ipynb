{
 "cells": [
  {
   "cell_type": "markdown",
   "metadata": {},
   "source": [
    "## API Mini Project Questions:\n",
    "1. Collect data from the Franfurt Stock Exchange, for the ticker AFX_X, for the whole year 2017 (keep in mind that the date format is YYYY-MM-DD).\n",
    "2. Convert the returned JSON object into a Python dictionary.\n",
    "3. Calculate what the highest and lowest opening prices were for the stock in this period.\n",
    "4. What was the largest change in any one day (based on High and Low price)?\n",
    "5. What was the largest change between any two days (based on Closing Price)?\n",
    "6. What was the average daily trading volume during this year?"
   ]
  },
  {
   "cell_type": "code",
   "execution_count": 1,
   "metadata": {
    "collapsed": true
   },
   "outputs": [],
   "source": [
    "#importing libraries\n",
    "import requests\n",
    "import pandas as pd\n",
    "import operator"
   ]
  },
  {
   "cell_type": "markdown",
   "metadata": {},
   "source": [
    "#### Completing questions 1 & 2 below"
   ]
  },
  {
   "cell_type": "code",
   "execution_count": 5,
   "metadata": {
    "collapsed": false
   },
   "outputs": [],
   "source": [
    "#connecting to API & storing data\n",
    "req = requests.get(\"https://www.quandl.com/api/v3/datasets/FSE/AFX_X/data.json?start_date=2017-01-01&end_date=2017-12-31&api_key=yUSy9ms6sx2Ubk55dXdN\")\n",
    "json_data = req.json()['dataset_data']"
   ]
  },
  {
   "cell_type": "markdown",
   "metadata": {},
   "source": [
    "#### Question 3\n",
    "Calculate what the highest and lowest opening prices were for the stock in this period.\n",
    "Answer:\n",
    "The code is per the below. The maximum opening price was on 2017/12/14 and was 53.11. The minimum opening price was on 2017/01/24 and was 34"
   ]
  },
  {
   "cell_type": "code",
   "execution_count": 10,
   "metadata": {
    "collapsed": false
   },
   "outputs": [
    {
     "data": {
      "text/plain": [
       "{'max': {'data': ['2017-12-14',\n",
       "   53.11,\n",
       "   53.54,\n",
       "   52.15,\n",
       "   52.67,\n",
       "   None,\n",
       "   132981.0,\n",
       "   7016953.0,\n",
       "   None,\n",
       "   None,\n",
       "   None],\n",
       "  'max_open': 53.11},\n",
       " 'min': {'data': ['2017-01-24',\n",
       "   34.0,\n",
       "   34.35,\n",
       "   33.85,\n",
       "   34.22,\n",
       "   None,\n",
       "   48797.0,\n",
       "   1666086.0,\n",
       "   None,\n",
       "   None,\n",
       "   None],\n",
       "  'min_open': 34.0}}"
      ]
     },
     "execution_count": 10,
     "metadata": {},
     "output_type": "execute_result"
    }
   ],
   "source": [
    "maximum = {'max_open': 0}\n",
    "minimum = {'min_open': 100}\n",
    "for item in json_data['data']:\n",
    "    if type(item[1]) is float:\n",
    "        if item[1] > maximum['max_open']:\n",
    "            maximum['max_open'] = item[1]\n",
    "            maximum['data'] = item\n",
    "        if item[1] < minimum['min_open']:\n",
    "            minimum['min_open'] = item[1]\n",
    "            minimum['data'] = item\n",
    "{'max': maximum, 'min': minimum}"
   ]
  },
  {
   "cell_type": "markdown",
   "metadata": {},
   "source": [
    "#### Question 4\n",
    "What was the largest change in any one day (based on High and Low price)?\n",
    "\n",
    "Answer: Code is below. The biggest change that happened in one day was on 2017/05/11 and the difference was 2.81."
   ]
  },
  {
   "cell_type": "code",
   "execution_count": 11,
   "metadata": {
    "collapsed": false
   },
   "outputs": [
    {
     "data": {
      "text/plain": [
       "{'data': ['2017-05-11',\n",
       "  43.4,\n",
       "  46.06,\n",
       "  43.25,\n",
       "  45.0,\n",
       "  None,\n",
       "  189125.0,\n",
       "  8496322.0,\n",
       "  None,\n",
       "  None,\n",
       "  None],\n",
       " 'difference': 2.8100000000000023}"
      ]
     },
     "execution_count": 11,
     "metadata": {},
     "output_type": "execute_result"
    }
   ],
   "source": [
    "largest_difference = {'difference':0}\n",
    "for item in json_data['data']:\n",
    "    if type(item[2]) is float:\n",
    "        if item[2] - item[3] > largest_difference['difference']:\n",
    "            largest_difference['difference'] = item[2] - item[3]\n",
    "            largest_difference['data'] = item\n",
    "largest_difference"
   ]
  },
  {
   "cell_type": "markdown",
   "metadata": {},
   "source": [
    "#### Question 5\n",
    "What was the largest change between any two days (based on Closing Price)?\n",
    "Answer: The code is per the below. The largest difference between two days was 2.56."
   ]
  },
  {
   "cell_type": "code",
   "execution_count": 13,
   "metadata": {
    "collapsed": false
   },
   "outputs": [
    {
     "data": {
      "text/plain": [
       "2.559999999999995"
      ]
     },
     "execution_count": 13,
     "metadata": {},
     "output_type": "execute_result"
    }
   ],
   "source": [
    "data = []\n",
    "for i in reversed(json_data['data']):\n",
    "    data.append(i)\n",
    "v = [ abs(data[x+1][4]-data[x][4]) for x in range(len(data)-1)]\n",
    "dates = [data[x][0] for x in range(len(data)-1)]\n",
    "differences_between_close = dict(zip(dates, v))\n",
    "differences_between_close[max(differences_between_close.items(), key=operator.itemgetter(1))[0]]"
   ]
  },
  {
   "cell_type": "markdown",
   "metadata": {},
   "source": [
    "#### Question 6\n",
    "What was the average daily trading volume during this year?\n",
    "Answer: the code is per the below. The average trading volume per day is 89,124."
   ]
  },
  {
   "cell_type": "code",
   "execution_count": 15,
   "metadata": {
    "collapsed": false
   },
   "outputs": [
    {
     "data": {
      "text/plain": [
       "89124.33725490196"
      ]
     },
     "execution_count": 15,
     "metadata": {},
     "output_type": "execute_result"
    }
   ],
   "source": [
    "avg_trading_volume = [ data[x][6] for x in range(len(data))]\n",
    "sum(avg_trading_volume)/len(avg_trading_volume)"
   ]
  }
 ],
 "metadata": {
  "kernelspec": {
   "display_name": "Python 3",
   "language": "python",
   "name": "python3"
  },
  "language_info": {
   "codemirror_mode": {
    "name": "ipython",
    "version": 3
   },
   "file_extension": ".py",
   "mimetype": "text/x-python",
   "name": "python",
   "nbconvert_exporter": "python",
   "pygments_lexer": "ipython3",
   "version": "3.6.0"
  }
 },
 "nbformat": 4,
 "nbformat_minor": 2
}
