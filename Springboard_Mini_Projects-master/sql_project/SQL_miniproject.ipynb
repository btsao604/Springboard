{
 "cells": [
  {
   "cell_type": "markdown",
   "metadata": {},
   "source": [
    "Q1: Some of the facilities charge a fee to members, but some do not. Please list the names of the facilities that do.\n",
    "\n",
    "A1: The facilities that charge a fee to members are: Tennis Court 1, Tennis Court 2, Massage Room 1, Massage Room 2, and the Squash Court."
   ]
  },
  {
   "cell_type": "markdown",
   "metadata": {},
   "source": [
    "Q2: How many facilities do not charge a fee to members?\n",
    "\n",
    "A2: Four facilities do not charge a fee to members."
   ]
  },
  {
   "cell_type": "markdown",
   "metadata": {},
   "source": [
    "Q3: How can you produce a list of facilities that charge a fee to members, where the fee is less than 20% of the facility's monthly maintenance cost? Return the facid, facility name, member cost, and monthly maintenance of the facilities in question.\n",
    "\n",
    "A3: The code used is: SELECT  `facid` ,  `name` ,  `membercost` ,  `monthlymaintenance` FROM  `Facilities` WHERE `membercost` < 0.2 *  `monthlymaintenance` AND  `membercost` >0 LIMIT 0 , 30."
   ]
  },
  {
   "cell_type": "markdown",
   "metadata": {},
   "source": [
    "Q4: How can you retrieve the details of facilities with ID 1 and 5? Write the query without using the OR operator.\n",
    "\n",
    "A4: The code used is: SELECT * FROM `Facilities` WHERE  `facid` IN ( 1, 5 ) LIMIT 0 , 30"
   ]
  },
  {
   "cell_type": "markdown",
   "metadata": {},
   "source": [
    "Q5: How can you produce a list of facilities, with each labelled as 'cheap' or 'expensive', depending on if their monthly maintenance cost is more than $100? Return the name and monthly maintenance of the facilities in question.\n",
    "\n",
    "A5: The code used is: SELECT  `name` ,  `monthlymaintenance` , (CASE WHEN  `monthlymaintenance` >100 THEN  'expensive' WHEN  `monthlymaintenance` <=100 THEN  'cheap' END) AS  'categories' FROM  `Facilities` LIMIT 0 , 30"
   ]
  },
  {
   "cell_type": "markdown",
   "metadata": {},
   "source": [
    "Q6: You'd like to get the first and last name of the last member(s) who signed up. Do not use the LIMIT clause for your solution.\n",
    "\n",
    "A6: The code used is: SELECT `firstname`,`surname`,`joindate` FROM `Members` WHERE `joindate`=(SELECT MAX(`joindate`) FROM `Members`)"
   ]
  },
  {
   "cell_type": "markdown",
   "metadata": {},
   "source": [
    "Q7: How can you produce a list of all members who have used a tennis court? Include in your output the name of the court, and the name of the member formatted as a single column. Ensure no duplicate data, and order by the member name.\n",
    "\n",
    "A7: The code used is: SELECT CONCAT(Facilities.name, ' - ', Members.firstname,' - ', Members.surname) AS 'categories' FROM `Bookings` INNER JOIN `Facilities` ON Bookings.facid = Facilities.facid INNER JOIN `Members` ON Bookings.memid = Members.memid WHERE Facilities.facid IN (0, 1)"
   ]
  },
  {
   "cell_type": "markdown",
   "metadata": {},
   "source": [
    "Q8: How can you produce a list of bookings on the day of 2012-09-14 which will cost the member (or guest) more than $30? Remember that guests have different costs to members (the listed costs are per half-hour 'slot'), and the guest user's ID is always 0. Include in your output the name of the facility, the name of the member formatted as a single column, and the cost. Order by descending cost, and do not use any subqueries.\n",
    "\n",
    "A8: The code used is:\n",
    "\n",
    "SELECT concat(Facilities.name, ' - GUEST') AS facilities_membername,\n",
    "Facilities.guestcost * Bookings.slots AS booking_cost\n",
    "FROM Bookings\n",
    "JOIN Facilities\n",
    "ON Bookings.facid = Facilities.facid\n",
    "Join Members\n",
    "ON Bookings.memid = Members.memid\n",
    "WHERE starttime BETWEEN '2012-09-14 00:00:01' AND '2012-09-14 23:59:59'\n",
    "AND Members.memid = 0\n",
    "\n",
    "UNION \n",
    "\n",
    "\n",
    "SELECT CONCAT(Facilities.name, ' - ',Members.firstname, ' ', Members.surname ) AS facilities_membername,\n",
    "SUM(Facilities.membercost * Bookings.slots) AS booking_cost\n",
    "FROM Bookings\n",
    "JOIN Facilities\n",
    "ON Bookings.facid = Facilities.facid\n",
    "JOIN Members\n",
    "ON Bookings.memid = Members.memid\n",
    "WHERE starttime BETWEEN '2012-09-14 00:00:01' AND '2012-09-14 23:59:59'\n",
    "AND Members.memid != 0\n",
    "\n",
    "ORDER BY booking_cost"
   ]
  },
  {
   "cell_type": "markdown",
   "metadata": {},
   "source": [
    "Q9: This time, produce the same result as in Q8, but using a subquery.\n",
    "\n",
    "A9: The code used is:\n",
    "\n",
    "SELECT concat(guestlist.facname, ' - GUEST') AS facilities_membername,\n",
    "guestlist.booking_cost\n",
    "FROM Members\n",
    "\n",
    "\n",
    "JOIN (\n",
    "\n",
    "SELECT Bookings.memid AS memid,\n",
    "Facilities.name AS facname,\n",
    "slots * guestcost AS booking_cost\n",
    "FROM Bookings\n",
    "JOIN Facilities\n",
    "ON Bookings.facid = Facilities.facid\n",
    "WHERE starttime BETWEEN '2012-09-14 00:00:01' AND '2012-09-14 23:59:59'\n",
    "AND memid = 0\n",
    "\n",
    ") guestlist\n",
    "ON Members.memid = guestlist.memid\n",
    "WHERE guestlist.booking_cost > 30\n",
    "\n",
    "\n",
    "UNION \n",
    "\n",
    "\n",
    "SELECT CONCAT(memberslist.facname, ' - ',Members.firstname, ' ', Members.surname ) AS facilities_membername,\n",
    "memberslist.booking_cost\n",
    "FROM Members\n",
    "\n",
    "\n",
    "JOIN (\n",
    "\n",
    "SELECT Bookings.memid AS memid,\n",
    "Facilities.name AS facname,\n",
    "SUM(slots * membercost) AS booking_cost\n",
    "\n",
    "FROM Bookings\n",
    "JOIN Facilities\n",
    "ON Bookings.facid = Facilities.facid\n",
    "WHERE starttime BETWEEN '2012-09-14 00:00:01' AND '2012-09-14 23:59:59'\n",
    "AND memid != 0\n",
    "GROUP BY 1\n",
    ") memberslist\n",
    "\n",
    "ON Members.memid = memberslist.memid\n",
    "WHERE memberslist.booking_cost > 30\n",
    "ORDER BY booking_cost DESC"
   ]
  },
  {
   "cell_type": "markdown",
   "metadata": {},
   "source": [
    "Q10: Produce a list of facilities with a total revenue less than 1000. The output of facility name and total revenue, sorted by revenue. Remember that there's a different cost for guests and members!\n",
    "\n",
    "A10: The code used is:\n",
    "\n",
    "SELECT facname, sum(booking_cost) AS booking_cost FROM (\n",
    "\n",
    "SELECT Facilities.name AS facname,\n",
    "slots * guestcost AS booking_cost\n",
    "FROM Bookings\n",
    "JOIN Facilities\n",
    "ON Bookings.facid = Facilities.facid\n",
    "AND memid = 0\n",
    "GROUP BY facname\n",
    "\n",
    "\n",
    "UNION \n",
    "\n",
    "SELECT Facilities.name AS facname,\n",
    "SUM(slots * membercost) AS booking_cost\n",
    "\n",
    "FROM Bookings\n",
    "JOIN Facilities\n",
    "ON Bookings.facid = Facilities.facid\n",
    "AND memid != 0\n",
    "GROUP BY facname) master_table\n",
    "GROUP BY facname\n",
    "HAVING sum(booking_cost) < 1000\n",
    "ORDER BY booking_cost DESC"
   ]
  }
 ],
 "metadata": {
  "kernelspec": {
   "display_name": "Python 3",
   "language": "python",
   "name": "python3"
  },
  "language_info": {
   "codemirror_mode": {
    "name": "ipython",
    "version": 3
   },
   "file_extension": ".py",
   "mimetype": "text/x-python",
   "name": "python",
   "nbconvert_exporter": "python",
   "pygments_lexer": "ipython3",
   "version": "3.6.0"
  }
 },
 "nbformat": 4,
 "nbformat_minor": 2
}
